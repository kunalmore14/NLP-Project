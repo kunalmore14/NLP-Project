{
 "cells": [
  {
   "cell_type": "code",
   "execution_count": 1,
   "id": "711ce677",
   "metadata": {
    "execution": {
     "iopub.execute_input": "2022-11-08T13:51:14.491112Z",
     "iopub.status.busy": "2022-11-08T13:51:14.490499Z",
     "iopub.status.idle": "2022-11-08T13:51:16.754615Z",
     "shell.execute_reply": "2022-11-08T13:51:16.753251Z"
    },
    "papermill": {
     "duration": 2.283248,
     "end_time": "2022-11-08T13:51:16.757985",
     "exception": false,
     "start_time": "2022-11-08T13:51:14.474737",
     "status": "completed"
    },
    "tags": []
   },
   "outputs": [],
   "source": [
    "import pandas as pd\n",
    "import numpy as np\n",
    "import seaborn as sn\n",
    "import matplotlib.pyplot as plt\n",
    "import re\n",
    "import nltk\n",
    "from collections import Counter\n",
    "from sklearn.feature_extraction.text import TfidfVectorizer,CountVectorizer\n",
    "from sklearn.model_selection import train_test_split\n",
    "from sklearn.tree import DecisionTreeClassifier\n",
    "from sklearn.ensemble import RandomForestClassifier\n",
    "from sklearn.naive_bayes import GaussianNB,MultinomialNB\n",
    "from sklearn.svm import SVC\n",
    "from sklearn import metrics"
   ]
  },
  {
   "cell_type": "code",
   "execution_count": 3,
   "id": "bfec8256",
   "metadata": {
    "execution": {
     "iopub.execute_input": "2022-11-08T13:51:16.786087Z",
     "iopub.status.busy": "2022-11-08T13:51:16.785642Z",
     "iopub.status.idle": "2022-11-08T13:51:17.631019Z",
     "shell.execute_reply": "2022-11-08T13:51:17.630003Z"
    },
    "papermill": {
     "duration": 0.863729,
     "end_time": "2022-11-08T13:51:17.633869",
     "exception": false,
     "start_time": "2022-11-08T13:51:16.770140",
     "status": "completed"
    },
    "tags": []
   },
   "outputs": [
    {
     "data": {
      "text/html": [
       "<div>\n",
       "<style scoped>\n",
       "    .dataframe tbody tr th:only-of-type {\n",
       "        vertical-align: middle;\n",
       "    }\n",
       "\n",
       "    .dataframe tbody tr th {\n",
       "        vertical-align: top;\n",
       "    }\n",
       "\n",
       "    .dataframe thead th {\n",
       "        text-align: right;\n",
       "    }\n",
       "</style>\n",
       "<table border=\"1\" class=\"dataframe\">\n",
       "  <thead>\n",
       "    <tr style=\"text-align: right;\">\n",
       "      <th></th>\n",
       "      <th>Unnamed: 0</th>\n",
       "      <th>book_id</th>\n",
       "      <th>book_name</th>\n",
       "      <th>genre</th>\n",
       "      <th>summary</th>\n",
       "    </tr>\n",
       "  </thead>\n",
       "  <tbody>\n",
       "    <tr>\n",
       "      <th>0</th>\n",
       "      <td>0</td>\n",
       "      <td>3248537</td>\n",
       "      <td>Drowned Wednesday</td>\n",
       "      <td>Fantasy</td>\n",
       "      <td>Drowned Wednesday is the first Trustee among ...</td>\n",
       "    </tr>\n",
       "    <tr>\n",
       "      <th>1</th>\n",
       "      <td>1</td>\n",
       "      <td>27796919</td>\n",
       "      <td>The Lost Hero</td>\n",
       "      <td>Fantasy</td>\n",
       "      <td>As the book opens, Jason awakens on a school ...</td>\n",
       "    </tr>\n",
       "    <tr>\n",
       "      <th>2</th>\n",
       "      <td>2</td>\n",
       "      <td>3910776</td>\n",
       "      <td>The Eyes of the Overworld</td>\n",
       "      <td>Fantasy</td>\n",
       "      <td>Cugel is easily persuaded by the merchant Fia...</td>\n",
       "    </tr>\n",
       "    <tr>\n",
       "      <th>3</th>\n",
       "      <td>3</td>\n",
       "      <td>5969644</td>\n",
       "      <td>Magic's Promise</td>\n",
       "      <td>Fantasy</td>\n",
       "      <td>The book opens with Herald-Mage Vanyel return...</td>\n",
       "    </tr>\n",
       "    <tr>\n",
       "      <th>4</th>\n",
       "      <td>4</td>\n",
       "      <td>3173445</td>\n",
       "      <td>Taran Wanderer</td>\n",
       "      <td>Fantasy</td>\n",
       "      <td>Taran and Gurgi have returned to Caer Dallben...</td>\n",
       "    </tr>\n",
       "  </tbody>\n",
       "</table>\n",
       "</div>"
      ],
      "text/plain": [
       "   Unnamed: 0   book_id                  book_name    genre  \\\n",
       "0           0   3248537          Drowned Wednesday  Fantasy   \n",
       "1           1  27796919              The Lost Hero  Fantasy   \n",
       "2           2   3910776  The Eyes of the Overworld  Fantasy   \n",
       "3           3   5969644            Magic's Promise  Fantasy   \n",
       "4           4   3173445             Taran Wanderer  Fantasy   \n",
       "\n",
       "                                             summary  \n",
       "0   Drowned Wednesday is the first Trustee among ...  \n",
       "1   As the book opens, Jason awakens on a school ...  \n",
       "2   Cugel is easily persuaded by the merchant Fia...  \n",
       "3   The book opens with Herald-Mage Vanyel return...  \n",
       "4   Taran and Gurgi have returned to Caer Dallben...  "
      ]
     },
     "execution_count": 3,
     "metadata": {},
     "output_type": "execute_result"
    }
   ],
   "source": [
    "books = pd.read_csv(r\"C:\\Users\\ayush\\Downloads\\BooksDataSet.csv\")\n",
    "books.head()"
   ]
  },
  {
   "cell_type": "code",
   "execution_count": 4,
   "id": "2a25ae32",
   "metadata": {
    "execution": {
     "iopub.execute_input": "2022-11-08T13:51:17.661223Z",
     "iopub.status.busy": "2022-11-08T13:51:17.660762Z",
     "iopub.status.idle": "2022-11-08T13:51:17.683035Z",
     "shell.execute_reply": "2022-11-08T13:51:17.681675Z"
    },
    "papermill": {
     "duration": 0.038763,
     "end_time": "2022-11-08T13:51:17.685376",
     "exception": false,
     "start_time": "2022-11-08T13:51:17.646613",
     "status": "completed"
    },
    "tags": []
   },
   "outputs": [
    {
     "data": {
      "text/html": [
       "<div>\n",
       "<style scoped>\n",
       "    .dataframe tbody tr th:only-of-type {\n",
       "        vertical-align: middle;\n",
       "    }\n",
       "\n",
       "    .dataframe tbody tr th {\n",
       "        vertical-align: top;\n",
       "    }\n",
       "\n",
       "    .dataframe thead th {\n",
       "        text-align: right;\n",
       "    }\n",
       "</style>\n",
       "<table border=\"1\" class=\"dataframe\">\n",
       "  <thead>\n",
       "    <tr style=\"text-align: right;\">\n",
       "      <th></th>\n",
       "      <th>book_id</th>\n",
       "      <th>book_name</th>\n",
       "      <th>genre</th>\n",
       "      <th>summary</th>\n",
       "    </tr>\n",
       "  </thead>\n",
       "  <tbody>\n",
       "    <tr>\n",
       "      <th>0</th>\n",
       "      <td>3248537</td>\n",
       "      <td>Drowned Wednesday</td>\n",
       "      <td>Fantasy</td>\n",
       "      <td>Drowned Wednesday is the first Trustee among ...</td>\n",
       "    </tr>\n",
       "    <tr>\n",
       "      <th>1</th>\n",
       "      <td>27796919</td>\n",
       "      <td>The Lost Hero</td>\n",
       "      <td>Fantasy</td>\n",
       "      <td>As the book opens, Jason awakens on a school ...</td>\n",
       "    </tr>\n",
       "    <tr>\n",
       "      <th>2</th>\n",
       "      <td>3910776</td>\n",
       "      <td>The Eyes of the Overworld</td>\n",
       "      <td>Fantasy</td>\n",
       "      <td>Cugel is easily persuaded by the merchant Fia...</td>\n",
       "    </tr>\n",
       "  </tbody>\n",
       "</table>\n",
       "</div>"
      ],
      "text/plain": [
       "    book_id                  book_name    genre  \\\n",
       "0   3248537          Drowned Wednesday  Fantasy   \n",
       "1  27796919              The Lost Hero  Fantasy   \n",
       "2   3910776  The Eyes of the Overworld  Fantasy   \n",
       "\n",
       "                                             summary  \n",
       "0   Drowned Wednesday is the first Trustee among ...  \n",
       "1   As the book opens, Jason awakens on a school ...  \n",
       "2   Cugel is easily persuaded by the merchant Fia...  "
      ]
     },
     "execution_count": 4,
     "metadata": {},
     "output_type": "execute_result"
    }
   ],
   "source": [
    "# removing the unnamed : 0\n",
    "\n",
    "books = books[['book_id', 'book_name', 'genre', 'summary']]\n",
    "books.head(3)"
   ]
  },
  {
   "cell_type": "code",
   "execution_count": 5,
   "id": "43e596f3",
   "metadata": {
    "execution": {
     "iopub.execute_input": "2022-11-08T13:51:17.711307Z",
     "iopub.status.busy": "2022-11-08T13:51:17.710690Z",
     "iopub.status.idle": "2022-11-08T13:51:17.734663Z",
     "shell.execute_reply": "2022-11-08T13:51:17.733417Z"
    },
    "papermill": {
     "duration": 0.03995,
     "end_time": "2022-11-08T13:51:17.737476",
     "exception": false,
     "start_time": "2022-11-08T13:51:17.697526",
     "status": "completed"
    },
    "tags": []
   },
   "outputs": [
    {
     "name": "stdout",
     "output_type": "stream",
     "text": [
      "<class 'pandas.core.frame.DataFrame'>\n",
      "RangeIndex: 3000 entries, 0 to 2999\n",
      "Data columns (total 4 columns):\n",
      " #   Column     Non-Null Count  Dtype \n",
      "---  ------     --------------  ----- \n",
      " 0   book_id    3000 non-null   int64 \n",
      " 1   book_name  3000 non-null   object\n",
      " 2   genre      3000 non-null   object\n",
      " 3   summary    3000 non-null   object\n",
      "dtypes: int64(1), object(3)\n",
      "memory usage: 93.9+ KB\n"
     ]
    }
   ],
   "source": [
    "books.info()"
   ]
  },
  {
   "cell_type": "code",
   "execution_count": 9,
   "id": "62b91ef4",
   "metadata": {
    "execution": {
     "iopub.execute_input": "2022-11-08T13:51:17.764038Z",
     "iopub.status.busy": "2022-11-08T13:51:17.763532Z",
     "iopub.status.idle": "2022-11-08T13:51:17.986460Z",
     "shell.execute_reply": "2022-11-08T13:51:17.985168Z"
    },
    "papermill": {
     "duration": 0.240268,
     "end_time": "2022-11-08T13:51:17.989920",
     "exception": false,
     "start_time": "2022-11-08T13:51:17.749652",
     "status": "completed"
    },
    "tags": []
   },
   "outputs": [
    {
     "data": {
      "text/plain": [
       "(array([0, 1, 2, 3, 4, 5]),\n",
       " [Text(0, 0, 'Fantasy'),\n",
       "  Text(1, 0, 'Science Fiction'),\n",
       "  Text(2, 0, 'Crime Fiction'),\n",
       "  Text(3, 0, 'Historical novel'),\n",
       "  Text(4, 0, 'Horror'),\n",
       "  Text(5, 0, 'Thriller')])"
      ]
     },
     "execution_count": 9,
     "metadata": {},
     "output_type": "execute_result"
    },
    {
     "data": {
      "image/png": "[encoded data removed]",
      "text/plain": [
       "<Figure size 640x480 with 1 Axes>"
      ]
     },
     "metadata": {},
     "output_type": "display_data"
    }
   ],
   "source": [
    "sn.countplot(x = books['genre'],palette='plasma')\n",
    "plt.xticks(rotation = 45)"
   ]
  },
  {
   "cell_type": "code",
   "execution_count": 10,
   "id": "65125a38",
   "metadata": {
    "execution": {
     "iopub.execute_input": "2022-11-08T13:51:18.019880Z",
     "iopub.status.busy": "2022-11-08T13:51:18.019381Z",
     "iopub.status.idle": "2022-11-08T13:51:18.028240Z",
     "shell.execute_reply": "2022-11-08T13:51:18.026734Z"
    },
    "papermill": {
     "duration": 0.027629,
     "end_time": "2022-11-08T13:51:18.031340",
     "exception": false,
     "start_time": "2022-11-08T13:51:18.003711",
     "status": "completed"
    },
    "tags": []
   },
   "outputs": [
    {
     "data": {
      "text/plain": [
       "' As the book opens, Jason awakens on a school bus, unable to remember who or where he is, or anything about his past. He is sitting next to Piper McLean and Leo Valdez, who call him by name and say they are his girlfriend and best friend respectively. All three are part of a class field trip to the Grand Canyon, and after they arrive, a classmate Dylan turns into a Venti (Storm Spirit) and attacks the trio and their trip leader, Coach Gleeson Hedge. In the ensuing fight, Jason surprises everyone, including himself, when one of his coins turns into a sword which he uses to battle the storm spirits. Coach Hedge, who reveals himself to be a satyr during the fight, is taken captive by a fleeing spirit. After the battle, a flying chariot arrives to rescue the trio, but one of the people in it, Annabeth, is upset when she discovers that her missing boyfriend, Percy Jackson, is not there as she expected. Annabeth, seeking Percy, was told in a vision from the goddess Hera to look there for the \"guy with one shoe\", but this turns out to be Jason, who had a shoe destroyed during the fight. Jason, Piper,and Leo are told that they are demigods and are taken back to Camp Half-Blood where they meet other greek demigod children like themselves. There, Leo is revealed as a son of Hephaestus, Piper as a daughter of Aphrodite and Jason as a son of Zeus, though Hera tells him he is her champion. Jason later discovers that he is the full brother of Zeus\\'s demigod daughter Thalia Grace, who is a Hunter of Artemis. Shortly after they arrive, the three are given a quest to rescue Hera, who has been captured, and they set off. They soon discover that their enemies are working under orders from Gaea to overthrow the gods. During their quest, they encounter Thalia and the Hunters, who have been looking for Percy. Thalia and Jason reunite for the first since Jason was captured at the age of two. On the way to Aeolus\\'s castle, Jason, Leo and Piper become separated from Thalia, who promises to meet them at the Wolf House, the last place Thalia had seen Jason before this meeting. After being nearly apprehended by Aeolus, who is under Gaea\\'s orders, the trio manage to escape thanks to Mellie, Aeolus`s former assistant, and end up in San Francisco, thanks to the result of a dream Piper had with Aphrodite. After landing in San Francisco, the trio rush to Mt.Diablo to fight the giant Enceladus, who has kidnapped Piper\\'s father. They manage to kill the giant and save Piper\\'s father, after which they rush to the Wolf House to free Hera. Although the heroes and the Hunters save Hera, the king of the giants, Porphyrion, rises fully and disappears into a hole in the Earth. Jason\\'s memory then starts returning, and he remembers that he is a hero from a Roman counterpart to Camp Half-Blood somewhere near San Francisco, and is the son of Jupiter, Zeus\\'s Roman aspect. He realizes that Hera, also known as Juno, has switched him with Percy Jackson, who will be at the Roman camp with no memory of his life, in the hopes that the two camps would ultimately work together to fight the giants and defeat the goddess Gaea.'"
      ]
     },
     "execution_count": 10,
     "metadata": {},
     "output_type": "execute_result"
    }
   ],
   "source": [
    "books['summary'].iloc[1]"
   ]
  },
  {
   "cell_type": "code",
   "execution_count": 11,
   "id": "86f44c3a",
   "metadata": {
    "execution": {
     "iopub.execute_input": "2022-11-08T13:51:18.061548Z",
     "iopub.status.busy": "2022-11-08T13:51:18.060428Z",
     "iopub.status.idle": "2022-11-08T13:51:18.634649Z",
     "shell.execute_reply": "2022-11-08T13:51:18.633447Z"
    },
    "papermill": {
     "duration": 0.592268,
     "end_time": "2022-11-08T13:51:18.637400",
     "exception": false,
     "start_time": "2022-11-08T13:51:18.045132",
     "status": "completed"
    },
    "tags": []
   },
   "outputs": [
    {
     "data": {
      "text/plain": [
       "'as the book opens jason awakens on a school bus unable to remember who or where he is or anything about his past he is sitting next to piper mclean and leo valdez who call him by name and say they are his girlfriend and best friend respectively all three are part of a class field trip to the grand canyon and after they arrive a classmate dylan turns into a venti storm spirit and attacks the trio and their trip leader coach gleeson hedge in the ensuing fight jason surprises everyone including himself when one of his coins turns into a sword which he uses to battle the storm spirits coach hedge who reveals himself to be a satyr during the fight is taken captive by a fleeing spirit after the battle a flying chariot arrives to rescue the trio but one of the people in it annabeth is upset when she discovers that her missing boyfriend percy jackson is not there as she expected annabeth seeking percy was told in a vision from the goddess hera to look there for the guy with one shoe but this turns out to be jason who had a shoe destroyed during the fight jason piper and leo are told that they are demigods and are taken back to camp half blood where they meet other greek demigod children like themselves there leo is revealed as a son of hephaestus piper as a daughter of aphrodite and jason as a son of zeus though hera tells him he is her champion jason later discovers that he is the full brother of zeus s demigod daughter thalia grace who is a hunter of artemis shortly after they arrive the three are given a quest to rescue hera who has been captured and they set off they soon discover that their enemies are working under orders from gaea to overthrow the gods during their quest they encounter thalia and the hunters who have been looking for percy thalia and jason reunite for the first since jason was captured at the age of two on the way to aeolus s castle jason leo and piper become separated from thalia who promises to meet them at the wolf house the last place thalia had seen jason before this meeting after being nearly apprehended by aeolus who is under gaea s orders the trio manage to escape thanks to mellie aeolus s former assistant and end up in san francisco thanks to the result of a dream piper had with aphrodite after landing in san francisco the trio rush to mt diablo to fight the giant enceladus who has kidnapped piper s father they manage to kill the giant and save piper s father after which they rush to the wolf house to free hera although the heroes and the hunters save hera the king of the giants porphyrion rises fully and disappears into a hole in the earth jason s memory then starts returning and he remembers that he is a hero from a roman counterpart to camp half blood somewhere near san francisco and is the son of jupiter zeus s roman aspect he realizes that hera also known as juno has switched him with percy jackson who will be at the roman camp with no memory of his life in the hopes that the two camps would ultimately work together to fight the giants and defeat the goddess gaea'"
      ]
     },
     "execution_count": 11,
     "metadata": {},
     "output_type": "execute_result"
    }
   ],
   "source": [
    "## cleaning the text\n",
    "\n",
    "def cleantext(text):\n",
    "    \n",
    "    # removing the \"\\\"\n",
    "    \n",
    "    text = re.sub(\"'\\''\",\"\",text)\n",
    "    \n",
    "    # removing special symbols\n",
    "    \n",
    "    text = re.sub(\"[^a-zA-Z]\",\" \",text)\n",
    "    \n",
    "    # removing the whitespaces\n",
    "    \n",
    "    text = ' '.join(text.split())\n",
    "    \n",
    "    # convert text to lowercase\n",
    "    \n",
    "    text = text.lower()\n",
    "    \n",
    "    return text\n",
    "\n",
    "\n",
    "    \n",
    "books['summary'] = books['summary'].apply(lambda x:cleantext(x))\n",
    "books['summary'].iloc[1]"
   ]
  },
  {
   "cell_type": "markdown",
   "id": "1251ac41",
   "metadata": {
    "papermill": {
     "duration": 0.012284,
     "end_time": "2022-11-08T13:51:18.662745",
     "exception": false,
     "start_time": "2022-11-08T13:51:18.650461",
     "status": "completed"
    },
    "tags": []
   },
   "source": [
    "#### Plotting the most Frequent Words"
   ]
  },
  {
   "cell_type": "code",
   "execution_count": 12,
   "id": "208d2aae",
   "metadata": {
    "execution": {
     "iopub.execute_input": "2022-11-08T13:51:18.690123Z",
     "iopub.status.busy": "2022-11-08T13:51:18.689677Z",
     "iopub.status.idle": "2022-11-08T13:51:20.330410Z",
     "shell.execute_reply": "2022-11-08T13:51:20.329107Z"
    },
    "papermill": {
     "duration": 1.657703,
     "end_time": "2022-11-08T13:51:20.333042",
     "exception": false,
     "start_time": "2022-11-08T13:51:18.675339",
     "status": "completed"
    },
    "scrolled": true,
    "tags": []
   },
   "outputs": [
    {
     "data": {
      "image/png": "[encoded data removed]",
      "text/plain": [
       "<Figure size 700x500 with 1 Axes>"
      ]
     },
     "metadata": {},
     "output_type": "display_data"
    }
   ],
   "source": [
    "def showmostfrequentwords(text,no_of_words):\n",
    "    \n",
    "    allwords = ' '.join([char for char in text])\n",
    "    allwords = allwords.split()\n",
    "    fdist = nltk.FreqDist(allwords)\n",
    "    \n",
    "    wordsdf = pd.DataFrame({'word':list(fdist.keys()),'count':list(fdist.values())})\n",
    "    \n",
    "    df = wordsdf.nlargest(columns=\"count\",n = no_of_words)\n",
    "    \n",
    "    plt.figure(figsize=(7,5))\n",
    "    ax = sn.barplot(data=df,x = 'count',y = 'word')\n",
    "    ax.set(ylabel = 'Word')\n",
    "    plt.show()\n",
    "    \n",
    "    return wordsdf\n",
    "    \n",
    "    \n",
    "# 25 most frequent words\n",
    "\n",
    "wordsdf = showmostfrequentwords(books['summary'],25)"
   ]
  },
  {
   "cell_type": "code",
   "execution_count": 13,
   "id": "c2f3695d",
   "metadata": {
    "execution": {
     "iopub.execute_input": "2022-11-08T13:51:20.361057Z",
     "iopub.status.busy": "2022-11-08T13:51:20.360598Z",
     "iopub.status.idle": "2022-11-08T13:51:20.446175Z",
     "shell.execute_reply": "2022-11-08T13:51:20.444912Z"
    },
    "papermill": {
     "duration": 0.102575,
     "end_time": "2022-11-08T13:51:20.448830",
     "exception": false,
     "start_time": "2022-11-08T13:51:20.346255",
     "status": "completed"
    },
    "tags": []
   },
   "outputs": [
    {
     "data": {
      "text/html": [
       "<style type=\"text/css\">\n",
       "#T_b7651_row0_col1 {\n",
       "  background-color: #f0f921;\n",
       "  color: #000000;\n",
       "}\n",
       "#T_b7651_row1_col1 {\n",
       "  background-color: #b02991;\n",
       "  color: #f1f1f1;\n",
       "}\n",
       "#T_b7651_row2_col1 {\n",
       "  background-color: #a62098;\n",
       "  color: #f1f1f1;\n",
       "}\n",
       "#T_b7651_row3_col1 {\n",
       "  background-color: #8004a8;\n",
       "  color: #f1f1f1;\n",
       "}\n",
       "#T_b7651_row4_col1 {\n",
       "  background-color: #7a02a8;\n",
       "  color: #f1f1f1;\n",
       "}\n",
       "#T_b7651_row5_col1 {\n",
       "  background-color: #3e049c;\n",
       "  color: #f1f1f1;\n",
       "}\n",
       "#T_b7651_row6_col1 {\n",
       "  background-color: #38049a;\n",
       "  color: #f1f1f1;\n",
       "}\n",
       "#T_b7651_row7_col1 {\n",
       "  background-color: #130789;\n",
       "  color: #f1f1f1;\n",
       "}\n",
       "#T_b7651_row8_col1 {\n",
       "  background-color: #100788;\n",
       "  color: #f1f1f1;\n",
       "}\n",
       "#T_b7651_row9_col1 {\n",
       "  background-color: #0d0887;\n",
       "  color: #f1f1f1;\n",
       "}\n",
       "</style>\n",
       "<table id=\"T_b7651\">\n",
       "  <thead>\n",
       "    <tr>\n",
       "      <th class=\"blank level0\" >&nbsp;</th>\n",
       "      <th id=\"T_b7651_level0_col0\" class=\"col_heading level0 col0\" >word</th>\n",
       "      <th id=\"T_b7651_level0_col1\" class=\"col_heading level0 col1\" >count</th>\n",
       "    </tr>\n",
       "  </thead>\n",
       "  <tbody>\n",
       "    <tr>\n",
       "      <th id=\"T_b7651_level0_row0\" class=\"row_heading level0 row0\" >3</th>\n",
       "      <td id=\"T_b7651_row0_col0\" class=\"data row0 col0\" >the</td>\n",
       "      <td id=\"T_b7651_row0_col1\" class=\"data row0 col1\" >99808</td>\n",
       "    </tr>\n",
       "    <tr>\n",
       "      <th id=\"T_b7651_level0_row1\" class=\"row_heading level0 row1\" >17</th>\n",
       "      <td id=\"T_b7651_row1_col0\" class=\"data row1 col0\" >to</td>\n",
       "      <td id=\"T_b7651_row1_col1\" class=\"data row1 col1\" >49665</td>\n",
       "    </tr>\n",
       "    <tr>\n",
       "      <th id=\"T_b7651_level0_row2\" class=\"row_heading level0 row2\" >14</th>\n",
       "      <td id=\"T_b7651_row2_col0\" class=\"data row2 col0\" >and</td>\n",
       "      <td id=\"T_b7651_row2_col1\" class=\"data row2 col1\" >47183</td>\n",
       "    </tr>\n",
       "    <tr>\n",
       "      <th id=\"T_b7651_level0_row3\" class=\"row_heading level0 row3\" >46</th>\n",
       "      <td id=\"T_b7651_row3_col0\" class=\"data row3 col0\" >of</td>\n",
       "      <td id=\"T_b7651_row3_col1\" class=\"data row3 col1\" >38003</td>\n",
       "    </tr>\n",
       "    <tr>\n",
       "      <th id=\"T_b7651_level0_row4\" class=\"row_heading level0 row4\" >23</th>\n",
       "      <td id=\"T_b7651_row4_col0\" class=\"data row4 col0\" >a</td>\n",
       "      <td id=\"T_b7651_row4_col1\" class=\"data row4 col1\" >36749</td>\n",
       "    </tr>\n",
       "    <tr>\n",
       "      <th id=\"T_b7651_level0_row5\" class=\"row_heading level0 row5\" >80</th>\n",
       "      <td id=\"T_b7651_row5_col0\" class=\"data row5 col0\" >in</td>\n",
       "      <td id=\"T_b7651_row5_col1\" class=\"data row5 col1\" >24496</td>\n",
       "    </tr>\n",
       "    <tr>\n",
       "      <th id=\"T_b7651_level0_row6\" class=\"row_heading level0 row6\" >2</th>\n",
       "      <td id=\"T_b7651_row6_col0\" class=\"data row6 col0\" >is</td>\n",
       "      <td id=\"T_b7651_row6_col1\" class=\"data row6 col1\" >23358</td>\n",
       "    </tr>\n",
       "    <tr>\n",
       "      <th id=\"T_b7651_level0_row7\" class=\"row_heading level0 row7\" >49</th>\n",
       "      <td id=\"T_b7651_row7_col0\" class=\"data row7 col0\" >his</td>\n",
       "      <td id=\"T_b7651_row7_col1\" class=\"data row7 col1\" >17464</td>\n",
       "    </tr>\n",
       "    <tr>\n",
       "      <th id=\"T_b7651_level0_row8\" class=\"row_heading level0 row8\" >51</th>\n",
       "      <td id=\"T_b7651_row8_col0\" class=\"data row8 col0\" >he</td>\n",
       "      <td id=\"T_b7651_row8_col1\" class=\"data row8 col1\" >17210</td>\n",
       "    </tr>\n",
       "    <tr>\n",
       "      <th id=\"T_b7651_level0_row9\" class=\"row_heading level0 row9\" >12</th>\n",
       "      <td id=\"T_b7651_row9_col0\" class=\"data row9 col0\" >s</td>\n",
       "      <td id=\"T_b7651_row9_col1\" class=\"data row9 col1\" >16710</td>\n",
       "    </tr>\n",
       "  </tbody>\n",
       "</table>\n"
      ],
      "text/plain": [
       "<pandas.io.formats.style.Styler at 0x1854b08cbd0>"
      ]
     },
     "execution_count": 13,
     "metadata": {},
     "output_type": "execute_result"
    }
   ],
   "source": [
    "wordsdf.sort_values('count',ascending=False).head(10).style.background_gradient(cmap = 'plasma')"
   ]
  },
  {
   "cell_type": "markdown",
   "id": "90629e05",
   "metadata": {
    "papermill": {
     "duration": 0.012794,
     "end_time": "2022-11-08T13:51:20.474875",
     "exception": false,
     "start_time": "2022-11-08T13:51:20.462081",
     "status": "completed"
    },
    "tags": []
   },
   "source": [
    "### Removing the stopwords"
   ]
  },
  {
   "cell_type": "code",
   "execution_count": 14,
   "id": "427b91d0",
   "metadata": {
    "execution": {
     "iopub.execute_input": "2022-11-08T13:51:20.503243Z",
     "iopub.status.busy": "2022-11-08T13:51:20.502291Z",
     "iopub.status.idle": "2022-11-08T13:51:20.873349Z",
     "shell.execute_reply": "2022-11-08T13:51:20.872110Z"
    },
    "papermill": {
     "duration": 0.388111,
     "end_time": "2022-11-08T13:51:20.876090",
     "exception": false,
     "start_time": "2022-11-08T13:51:20.487979",
     "status": "completed"
    },
    "tags": []
   },
   "outputs": [
    {
     "name": "stderr",
     "output_type": "stream",
     "text": [
      "[nltk_data] Downloading package stopwords to\n",
      "[nltk_data]     C:\\Users\\ayush\\AppData\\Roaming\\nltk_data...\n",
      "[nltk_data]   Unzipping corpora\\stopwords.zip.\n"
     ]
    },
    {
     "data": {
      "text/plain": [
       "'book opens jason awakens school bus unable remember anything past sitting next piper mclean leo valdez call name say girlfriend best friend respectively three part class field trip grand canyon arrive classmate dylan turns venti storm spirit attacks trio trip leader coach gleeson hedge ensuing fight jason surprises everyone including one coins turns sword uses battle storm spirits coach hedge reveals satyr fight taken captive fleeing spirit battle flying chariot arrives rescue trio one people annabeth upset discovers missing boyfriend percy jackson expected annabeth seeking percy told vision goddess hera look guy one shoe turns jason shoe destroyed fight jason piper leo told demigods taken back camp half blood meet greek demigod children like leo revealed son hephaestus piper daughter aphrodite jason son zeus though hera tells champion jason later discovers full brother zeus demigod daughter thalia grace hunter artemis shortly arrive three given quest rescue hera captured set soon discover enemies working orders gaea overthrow gods quest encounter thalia hunters looking percy thalia jason reunite first since jason captured age two way aeolus castle jason leo piper become separated thalia promises meet wolf house last place thalia seen jason meeting nearly apprehended aeolus gaea orders trio manage escape thanks mellie aeolus former assistant end san francisco thanks result dream piper aphrodite landing san francisco trio rush mt diablo fight giant enceladus kidnapped piper father manage kill giant save piper father rush wolf house free hera although heroes hunters save hera king giants porphyrion rises fully disappears hole earth jason memory starts returning remembers hero roman counterpart camp half blood somewhere near san francisco son jupiter zeus roman aspect realizes hera also known juno switched percy jackson roman camp memory life hopes two camps would ultimately work together fight giants defeat goddess gaea'"
      ]
     },
     "execution_count": 14,
     "metadata": {},
     "output_type": "execute_result"
    }
   ],
   "source": [
    "nltk.download('stopwords')\n",
    "from nltk.corpus import stopwords\n",
    "stop_words = set(stopwords.words('english'))\n",
    "\n",
    "# removing the stopwords\n",
    "\n",
    "def removestopwords(text):\n",
    "    \n",
    "    removedstopword = [word for word in text.split() if word not in stop_words]\n",
    "    return ' '.join(removedstopword)\n",
    "\n",
    "books['summary'] = books['summary'].apply(lambda x:removestopwords(x))\n",
    "books['summary'].iloc[1]"
   ]
  },
  {
   "cell_type": "markdown",
   "id": "6727458e",
   "metadata": {
    "papermill": {
     "duration": 0.0144,
     "end_time": "2022-11-08T13:51:20.904699",
     "exception": false,
     "start_time": "2022-11-08T13:51:20.890299",
     "status": "completed"
    },
    "tags": []
   },
   "source": [
    "## Lemmatizing"
   ]
  },
  {
   "cell_type": "code",
   "execution_count": 15,
   "id": "575cc0f4",
   "metadata": {
    "execution": {
     "iopub.execute_input": "2022-11-08T13:51:20.935488Z",
     "iopub.status.busy": "2022-11-08T13:51:20.934215Z",
     "iopub.status.idle": "2022-11-08T13:51:21.150374Z",
     "shell.execute_reply": "2022-11-08T13:51:21.149139Z"
    },
    "papermill": {
     "duration": 0.234451,
     "end_time": "2022-11-08T13:51:21.153358",
     "exception": false,
     "start_time": "2022-11-08T13:51:20.918907",
     "status": "completed"
    },
    "tags": []
   },
   "outputs": [
    {
     "name": "stderr",
     "output_type": "stream",
     "text": [
      "[nltk_data] Downloading package omw-1.4 to\n",
      "[nltk_data]     C:\\Users\\ayush\\AppData\\Roaming\\nltk_data...\n"
     ]
    },
    {
     "data": {
      "text/plain": [
       "True"
      ]
     },
     "execution_count": 15,
     "metadata": {},
     "output_type": "execute_result"
    }
   ],
   "source": [
    "nltk.download('omw-1.4')"
   ]
  },
  {
   "cell_type": "code",
   "execution_count": 16,
   "id": "5bde0e7b",
   "metadata": {
    "execution": {
     "iopub.execute_input": "2022-11-08T13:51:21.185459Z",
     "iopub.status.busy": "2022-11-08T13:51:21.184036Z",
     "iopub.status.idle": "2022-11-08T13:51:27.289731Z",
     "shell.execute_reply": "2022-11-08T13:51:27.288364Z"
    },
    "papermill": {
     "duration": 6.123543,
     "end_time": "2022-11-08T13:51:27.292532",
     "exception": false,
     "start_time": "2022-11-08T13:51:21.168989",
     "status": "completed"
    },
    "tags": []
   },
   "outputs": [
    {
     "name": "stderr",
     "output_type": "stream",
     "text": [
      "[nltk_data] Downloading package wordnet to\n",
      "[nltk_data]     C:\\Users\\ayush\\AppData\\Roaming\\nltk_data...\n"
     ]
    }
   ],
   "source": [
    "nltk.download('wordnet')\n",
    "from nltk.stem import WordNetLemmatizer\n",
    "\n",
    "lemma=WordNetLemmatizer()\n",
    "\n",
    "def lematizing(sentence):\n",
    "    stemSentence = \"\"\n",
    "    for word in sentence.split():\n",
    "        stem = lemma.lemmatize(word)\n",
    "        stemSentence += stem\n",
    "        stemSentence += \" \"\n",
    "    stemSentence = stemSentence.strip()\n",
    "    return stemSentence\n",
    "\n",
    "\n",
    "books['summary'] = books['summary'].apply(lambda x: lematizing(x))"
   ]
  },
  {
   "cell_type": "markdown",
   "id": "962a5980",
   "metadata": {
    "papermill": {
     "duration": 0.013776,
     "end_time": "2022-11-08T13:51:27.319865",
     "exception": false,
     "start_time": "2022-11-08T13:51:27.306089",
     "status": "completed"
    },
    "tags": []
   },
   "source": [
    "## Stemming "
   ]
  },
  {
   "cell_type": "code",
   "execution_count": 17,
   "id": "536c68f1",
   "metadata": {
    "execution": {
     "iopub.execute_input": "2022-11-08T13:51:27.350107Z",
     "iopub.status.busy": "2022-11-08T13:51:27.349156Z",
     "iopub.status.idle": "2022-11-08T13:51:48.631344Z",
     "shell.execute_reply": "2022-11-08T13:51:48.630055Z"
    },
    "papermill": {
     "duration": 21.299823,
     "end_time": "2022-11-08T13:51:48.633996",
     "exception": false,
     "start_time": "2022-11-08T13:51:27.334173",
     "status": "completed"
    },
    "tags": []
   },
   "outputs": [
    {
     "data": {
      "text/plain": [
       "'book open jason awaken school bu unabl rememb anyth past sit next piper mclean leo valdez call name say girlfriend best friend respect three part class field trip grand canyon arriv classmat dylan turn venti storm spirit attack trio trip leader coach gleeson hedg ensu fight jason surpris everyon includ one coin turn sword us battl storm spirit coach hedg reveal satyr fight taken captiv flee spirit battl fli chariot arriv rescu trio one peopl annabeth upset discov miss boyfriend perci jackson expect annabeth seek perci told vision goddess hera look guy one shoe turn jason shoe destroy fight jason piper leo told demigod taken back camp half blood meet greek demigod child like leo reveal son hephaestu piper daughter aphrodit jason son zeu though hera tell champion jason later discov full brother zeu demigod daughter thalia grace hunter artemi shortli arriv three given quest rescu hera captur set soon discov enemi work order gaea overthrow god quest encount thalia hunter look perci thalia jason reunit first sinc jason captur age two way aeolu castl jason leo piper becom separ thalia promis meet wolf hous last place thalia seen jason meet nearli apprehend aeolu gaea order trio manag escap thank melli aeolu former assist end san francisco thank result dream piper aphrodit land san francisco trio rush mt diablo fight giant enceladu kidnap piper father manag kill giant save piper father rush wolf hous free hera although hero hunter save hera king giant porphyrion rise fulli disappear hole earth jason memori start return rememb hero roman counterpart camp half blood somewher near san francisco son jupit zeu roman aspect realiz hera also known juno switch perci jackson roman camp memori life hope two camp would ultim work togeth fight giant defeat goddess gaea'"
      ]
     },
     "execution_count": 17,
     "metadata": {},
     "output_type": "execute_result"
    }
   ],
   "source": [
    "# Approach \n",
    "\n",
    "from nltk.stem import PorterStemmer\n",
    "stemmer = PorterStemmer()\n",
    "\n",
    "def stemming(sentence):\n",
    "    \n",
    "    stemmed_sentence = \"\"\n",
    "    for word in sentence.split():\n",
    "        stem = stemmer.stem(word)\n",
    "        stemmed_sentence+=stem\n",
    "        stemmed_sentence+=\" \"\n",
    "        \n",
    "    stemmed_sentence = stemmed_sentence.strip()\n",
    "    return stemmed_sentence\n",
    "\n",
    "books['summary'] = books['summary'].apply(lambda text:stemming(text))\n",
    "books['summary'].iloc[1]"
   ]
  },
  {
   "cell_type": "code",
   "execution_count": 18,
   "id": "a914fa62",
   "metadata": {
    "execution": {
     "iopub.execute_input": "2022-11-08T13:51:48.662969Z",
     "iopub.status.busy": "2022-11-08T13:51:48.662525Z",
     "iopub.status.idle": "2022-11-08T13:51:49.650833Z",
     "shell.execute_reply": "2022-11-08T13:51:49.649553Z"
    },
    "papermill": {
     "duration": 1.00603,
     "end_time": "2022-11-08T13:51:49.653758",
     "exception": false,
     "start_time": "2022-11-08T13:51:48.647728",
     "status": "completed"
    },
    "tags": []
   },
   "outputs": [
    {
     "data": {
      "image/png": "[encoded data removed]",
      "text/plain": [
       "<Figure size 700x500 with 1 Axes>"
      ]
     },
     "metadata": {},
     "output_type": "display_data"
    }
   ],
   "source": [
    "# visualising frewords\n",
    "\n",
    "freq_df = showmostfrequentwords(books['summary'],25)"
   ]
  },
  {
   "cell_type": "code",
   "execution_count": 19,
   "id": "e76e0b16",
   "metadata": {
    "execution": {
     "iopub.execute_input": "2022-11-08T13:51:49.683471Z",
     "iopub.status.busy": "2022-11-08T13:51:49.683053Z",
     "iopub.status.idle": "2022-11-08T13:51:49.701749Z",
     "shell.execute_reply": "2022-11-08T13:51:49.700964Z"
    },
    "papermill": {
     "duration": 0.035979,
     "end_time": "2022-11-08T13:51:49.703945",
     "exception": false,
     "start_time": "2022-11-08T13:51:49.667966",
     "status": "completed"
    },
    "tags": []
   },
   "outputs": [
    {
     "data": {
      "text/html": [
       "<style type=\"text/css\">\n",
       "#T_c6378_row0_col1 {\n",
       "  background-color: #f0f921;\n",
       "  color: #000000;\n",
       "}\n",
       "#T_c6378_row1_col1 {\n",
       "  background-color: #fdab33;\n",
       "  color: #000000;\n",
       "}\n",
       "#T_c6378_row2_col1 {\n",
       "  background-color: #f58b47;\n",
       "  color: #f1f1f1;\n",
       "}\n",
       "#T_c6378_row3_col1 {\n",
       "  background-color: #a01a9c;\n",
       "  color: #f1f1f1;\n",
       "}\n",
       "#T_c6378_row4_col1 {\n",
       "  background-color: #7801a8;\n",
       "  color: #f1f1f1;\n",
       "}\n",
       "#T_c6378_row5_col1 {\n",
       "  background-color: #6c00a8;\n",
       "  color: #f1f1f1;\n",
       "}\n",
       "#T_c6378_row6_col1 {\n",
       "  background-color: #280592;\n",
       "  color: #f1f1f1;\n",
       "}\n",
       "#T_c6378_row7_col1 {\n",
       "  background-color: #240691;\n",
       "  color: #f1f1f1;\n",
       "}\n",
       "#T_c6378_row8_col1 {\n",
       "  background-color: #16078a;\n",
       "  color: #f1f1f1;\n",
       "}\n",
       "#T_c6378_row9_col1 {\n",
       "  background-color: #0d0887;\n",
       "  color: #f1f1f1;\n",
       "}\n",
       "</style>\n",
       "<table id=\"T_c6378\">\n",
       "  <thead>\n",
       "    <tr>\n",
       "      <th class=\"blank level0\" >&nbsp;</th>\n",
       "      <th id=\"T_c6378_level0_col0\" class=\"col_heading level0 col0\" >word</th>\n",
       "      <th id=\"T_c6378_level0_col1\" class=\"col_heading level0 col1\" >count</th>\n",
       "    </tr>\n",
       "  </thead>\n",
       "  <tbody>\n",
       "    <tr>\n",
       "      <th id=\"T_c6378_level0_row0\" class=\"row_heading level0 row0\" >242</th>\n",
       "      <td id=\"T_c6378_row0_col0\" class=\"data row0 col0\" >one</td>\n",
       "      <td id=\"T_c6378_row0_col1\" class=\"data row0 col1\" >3858</td>\n",
       "    </tr>\n",
       "    <tr>\n",
       "      <th id=\"T_c6378_level0_row1\" class=\"row_heading level0 row1\" >230</th>\n",
       "      <td id=\"T_c6378_row1_col0\" class=\"data row1 col0\" >find</td>\n",
       "      <td id=\"T_c6378_row1_col1\" class=\"data row1 col1\" >3533</td>\n",
       "    </tr>\n",
       "    <tr>\n",
       "      <th id=\"T_c6378_level0_row2\" class=\"row_heading level0 row2\" >240</th>\n",
       "      <td id=\"T_c6378_row2_col0\" class=\"data row2 col0\" >kill</td>\n",
       "      <td id=\"T_c6378_row2_col1\" class=\"data row2 col1\" >3380</td>\n",
       "    </tr>\n",
       "    <tr>\n",
       "      <th id=\"T_c6378_level0_row3\" class=\"row_heading level0 row3\" >153</th>\n",
       "      <td id=\"T_c6378_row3_col0\" class=\"data row3 col0\" >take</td>\n",
       "      <td id=\"T_c6378_row3_col1\" class=\"data row3 col1\" >2743</td>\n",
       "    </tr>\n",
       "    <tr>\n",
       "      <th id=\"T_c6378_level0_row4\" class=\"row_heading level0 row4\" >1143</th>\n",
       "      <td id=\"T_c6378_row4_col0\" class=\"data row4 col0\" >time</td>\n",
       "      <td id=\"T_c6378_row4_col1\" class=\"data row4 col1\" >2563</td>\n",
       "    </tr>\n",
       "    <tr>\n",
       "      <th id=\"T_c6378_level0_row5\" class=\"row_heading level0 row5\" >88</th>\n",
       "      <td id=\"T_c6378_row5_col0\" class=\"data row5 col0\" >go</td>\n",
       "      <td id=\"T_c6378_row5_col1\" class=\"data row5 col1\" >2509</td>\n",
       "    </tr>\n",
       "    <tr>\n",
       "      <th id=\"T_c6378_level0_row6\" class=\"row_heading level0 row6\" >38</th>\n",
       "      <td id=\"T_c6378_row6_col0\" class=\"data row6 col0\" >two</td>\n",
       "      <td id=\"T_c6378_row6_col1\" class=\"data row6 col1\" >2235</td>\n",
       "    </tr>\n",
       "    <tr>\n",
       "      <th id=\"T_c6378_level0_row7\" class=\"row_heading level0 row7\" >418</th>\n",
       "      <td id=\"T_c6378_row7_col0\" class=\"data row7 col0\" >life</td>\n",
       "      <td id=\"T_c6378_row7_col1\" class=\"data row7 col1\" >2224</td>\n",
       "    </tr>\n",
       "    <tr>\n",
       "      <th id=\"T_c6378_level0_row8\" class=\"row_heading level0 row8\" >415</th>\n",
       "      <td id=\"T_c6378_row8_col0\" class=\"data row8 col0\" >also</td>\n",
       "      <td id=\"T_c6378_row8_col1\" class=\"data row8 col1\" >2179</td>\n",
       "    </tr>\n",
       "    <tr>\n",
       "      <th id=\"T_c6378_level0_row9\" class=\"row_heading level0 row9\" >407</th>\n",
       "      <td id=\"T_c6378_row9_col0\" class=\"data row9 col0\" >return</td>\n",
       "      <td id=\"T_c6378_row9_col1\" class=\"data row9 col1\" >2158</td>\n",
       "    </tr>\n",
       "  </tbody>\n",
       "</table>\n"
      ],
      "text/plain": [
       "<pandas.io.formats.style.Styler at 0x18550c9edd0>"
      ]
     },
     "execution_count": 19,
     "metadata": {},
     "output_type": "execute_result"
    }
   ],
   "source": [
    "freq_df.sort_values('count',ascending=False).head(10).style.background_gradient(cmap = 'plasma')"
   ]
  },
  {
   "cell_type": "markdown",
   "id": "e7ba7628",
   "metadata": {
    "papermill": {
     "duration": 0.013649,
     "end_time": "2022-11-08T13:51:49.731673",
     "exception": false,
     "start_time": "2022-11-08T13:51:49.718024",
     "status": "completed"
    },
    "tags": []
   },
   "source": [
    "##  Encoding"
   ]
  },
  {
   "cell_type": "code",
   "execution_count": 20,
   "id": "b27a1c20",
   "metadata": {
    "execution": {
     "iopub.execute_input": "2022-11-08T13:51:49.761834Z",
     "iopub.status.busy": "2022-11-08T13:51:49.761227Z",
     "iopub.status.idle": "2022-11-08T13:51:49.768243Z",
     "shell.execute_reply": "2022-11-08T13:51:49.766934Z"
    },
    "papermill": {
     "duration": 0.025198,
     "end_time": "2022-11-08T13:51:49.770920",
     "exception": false,
     "start_time": "2022-11-08T13:51:49.745722",
     "status": "completed"
    },
    "tags": []
   },
   "outputs": [
    {
     "name": "stdout",
     "output_type": "stream",
     "text": [
      "{'Fantasy': 0, 'Science Fiction': 1, 'Crime Fiction': 2, 'Historical novel': 3, 'Horror': 4, 'Thriller': 5}\n"
     ]
    }
   ],
   "source": [
    "books_list = list(books['genre'].unique())\n",
    "encode = [i for i in range(len(books_list))]\n",
    "mapper = dict(zip(books_list,encode))\n",
    "print(mapper)"
   ]
  },
  {
   "cell_type": "code",
   "execution_count": 21,
   "id": "ce4064dc",
   "metadata": {
    "execution": {
     "iopub.execute_input": "2022-11-08T13:51:49.801921Z",
     "iopub.status.busy": "2022-11-08T13:51:49.801439Z",
     "iopub.status.idle": "2022-11-08T13:51:49.813108Z",
     "shell.execute_reply": "2022-11-08T13:51:49.811887Z"
    },
    "papermill": {
     "duration": 0.030255,
     "end_time": "2022-11-08T13:51:49.815715",
     "exception": false,
     "start_time": "2022-11-08T13:51:49.785460",
     "status": "completed"
    },
    "tags": []
   },
   "outputs": [
    {
     "data": {
      "text/plain": [
       "array([0, 1, 2, 3, 4, 5], dtype=int64)"
      ]
     },
     "execution_count": 21,
     "metadata": {},
     "output_type": "execute_result"
    }
   ],
   "source": [
    "books['genre'] = books['genre'].map(mapper)\n",
    "books['genre'].unique()"
   ]
  },
  {
   "cell_type": "markdown",
   "id": "ed8a07df",
   "metadata": {
    "papermill": {
     "duration": 0.013996,
     "end_time": "2022-11-08T13:51:49.844163",
     "exception": false,
     "start_time": "2022-11-08T13:51:49.830167",
     "status": "completed"
    },
    "tags": []
   },
   "source": [
    "## Model Building"
   ]
  },
  {
   "cell_type": "code",
   "execution_count": 22,
   "id": "7ea1cf00",
   "metadata": {
    "execution": {
     "iopub.execute_input": "2022-11-08T13:51:49.874999Z",
     "iopub.status.busy": "2022-11-08T13:51:49.874185Z",
     "iopub.status.idle": "2022-11-08T13:51:50.620116Z",
     "shell.execute_reply": "2022-11-08T13:51:50.619258Z"
    },
    "papermill": {
     "duration": 0.763686,
     "end_time": "2022-11-08T13:51:50.622240",
     "exception": false,
     "start_time": "2022-11-08T13:51:49.858554",
     "status": "completed"
    },
    "scrolled": true,
    "tags": []
   },
   "outputs": [
    {
     "data": {
      "text/plain": [
       "<3000x1000 sparse matrix of type '<class 'numpy.int64'>'\n",
       "\twith 245387 stored elements in Compressed Sparse Row format>"
      ]
     },
     "execution_count": 22,
     "metadata": {},
     "output_type": "execute_result"
    }
   ],
   "source": [
    "## count vectorizer\n",
    "\n",
    "count_vec = CountVectorizer(max_df=0.90,min_df=2,\n",
    "                           max_features=1000,stop_words='english')\n",
    "\n",
    "bagofword_vec = count_vec.fit_transform(books['summary'])\n",
    "bagofword_vec"
   ]
  },
  {
   "cell_type": "code",
   "execution_count": 23,
   "id": "c096a992",
   "metadata": {
    "execution": {
     "iopub.execute_input": "2022-11-08T13:51:50.653238Z",
     "iopub.status.busy": "2022-11-08T13:51:50.652852Z",
     "iopub.status.idle": "2022-11-08T13:51:50.665788Z",
     "shell.execute_reply": "2022-11-08T13:51:50.664568Z"
    },
    "papermill": {
     "duration": 0.031508,
     "end_time": "2022-11-08T13:51:50.668284",
     "exception": false,
     "start_time": "2022-11-08T13:51:50.636776",
     "status": "completed"
    },
    "tags": []
   },
   "outputs": [
    {
     "data": {
      "text/plain": [
       "((2400, 1000), (600, 1000))"
      ]
     },
     "execution_count": 23,
     "metadata": {},
     "output_type": "execute_result"
    }
   ],
   "source": [
    "test = books['genre']\n",
    "X_train, X_test, y_train, y_test = train_test_split(bagofword_vec,test,\n",
    "                                                    test_size=0.2)\n",
    "X_train.shape,X_test.shape"
   ]
  },
  {
   "cell_type": "code",
   "execution_count": 24,
   "id": "bb1a20b7",
   "metadata": {
    "execution": {
     "iopub.execute_input": "2022-11-08T13:51:50.700112Z",
     "iopub.status.busy": "2022-11-08T13:51:50.699672Z",
     "iopub.status.idle": "2022-11-08T13:51:58.025363Z",
     "shell.execute_reply": "2022-11-08T13:51:58.024059Z"
    },
    "papermill": {
     "duration": 7.344976,
     "end_time": "2022-11-08T13:51:58.027945",
     "exception": false,
     "start_time": "2022-11-08T13:51:50.682969",
     "status": "completed"
    },
    "tags": []
   },
   "outputs": [
    {
     "name": "stdout",
     "output_type": "stream",
     "text": [
      "0.5866666666666667\n"
     ]
    }
   ],
   "source": [
    "svc = SVC()\n",
    "svc.fit(X_train,y_train)\n",
    "svccpred = svc.predict(X_test)\n",
    "print(metrics.accuracy_score(y_test,svccpred))"
   ]
  },
  {
   "cell_type": "code",
   "execution_count": 25,
   "id": "34b0cfa9",
   "metadata": {
    "execution": {
     "iopub.execute_input": "2022-11-08T13:51:58.059981Z",
     "iopub.status.busy": "2022-11-08T13:51:58.058832Z",
     "iopub.status.idle": "2022-11-08T13:51:58.071121Z",
     "shell.execute_reply": "2022-11-08T13:51:58.069864Z"
    },
    "papermill": {
     "duration": 0.031039,
     "end_time": "2022-11-08T13:51:58.073770",
     "exception": false,
     "start_time": "2022-11-08T13:51:58.042731",
     "status": "completed"
    },
    "tags": []
   },
   "outputs": [
    {
     "name": "stdout",
     "output_type": "stream",
     "text": [
      "0.665\n"
     ]
    }
   ],
   "source": [
    "mb = MultinomialNB()\n",
    "mb.fit(X_train,y_train)\n",
    "mbpred = mb.predict(X_test)\n",
    "print(metrics.accuracy_score(y_test,mbpred))"
   ]
  },
  {
   "cell_type": "code",
   "execution_count": 26,
   "id": "f05ba833",
   "metadata": {
    "execution": {
     "iopub.execute_input": "2022-11-08T13:51:58.105615Z",
     "iopub.status.busy": "2022-11-08T13:51:58.105172Z",
     "iopub.status.idle": "2022-11-08T13:52:01.354941Z",
     "shell.execute_reply": "2022-11-08T13:52:01.353300Z"
    },
    "papermill": {
     "duration": 3.269173,
     "end_time": "2022-11-08T13:52:01.357930",
     "exception": false,
     "start_time": "2022-11-08T13:51:58.088757",
     "status": "completed"
    },
    "tags": []
   },
   "outputs": [
    {
     "name": "stdout",
     "output_type": "stream",
     "text": [
      "0.6316666666666667\n"
     ]
    }
   ],
   "source": [
    "rf = RandomForestClassifier()\n",
    "rf.fit(X_train,y_train)\n",
    "print(metrics.accuracy_score(y_test,rf.predict(X_test)))"
   ]
  },
  {
   "cell_type": "markdown",
   "id": "a835263a",
   "metadata": {
    "papermill": {
     "duration": 0.014344,
     "end_time": "2022-11-08T13:52:01.387207",
     "exception": false,
     "start_time": "2022-11-08T13:52:01.372863",
     "status": "completed"
    },
    "tags": []
   },
   "source": [
    "## Part 2 Model Building\n",
    "\n",
    " + Changing from Countvectorizer to TFDIF vectorizer"
   ]
  },
  {
   "cell_type": "code",
   "execution_count": 27,
   "id": "0a279f3b",
   "metadata": {
    "execution": {
     "iopub.execute_input": "2022-11-08T13:52:01.419781Z",
     "iopub.status.busy": "2022-11-08T13:52:01.418647Z",
     "iopub.status.idle": "2022-11-08T13:52:01.429575Z",
     "shell.execute_reply": "2022-11-08T13:52:01.428572Z"
    },
    "papermill": {
     "duration": 0.029499,
     "end_time": "2022-11-08T13:52:01.431915",
     "exception": false,
     "start_time": "2022-11-08T13:52:01.402416",
     "status": "completed"
    },
    "tags": []
   },
   "outputs": [
    {
     "data": {
      "text/plain": [
       "((2400,), (600,))"
      ]
     },
     "execution_count": 27,
     "metadata": {},
     "output_type": "execute_result"
    }
   ],
   "source": [
    "#Labeling each 'genre' with an unique number \n",
    "\n",
    "from sklearn.preprocessing import LabelEncoder\n",
    "le = LabelEncoder()\n",
    "y=le.fit_transform(books['genre'])\n",
    "\n",
    "X_train,X_test,y_train,y_test = train_test_split(books['summary']\n",
    "                                                ,y,test_size=0.2,\n",
    "                                                random_state=557)\n",
    "\n",
    "X_train.shape,X_test.shape"
   ]
  },
  {
   "cell_type": "code",
   "execution_count": 28,
   "id": "27527074",
   "metadata": {
    "execution": {
     "iopub.execute_input": "2022-11-08T13:52:01.463851Z",
     "iopub.status.busy": "2022-11-08T13:52:01.463022Z",
     "iopub.status.idle": "2022-11-08T13:52:02.565130Z",
     "shell.execute_reply": "2022-11-08T13:52:02.563564Z"
    },
    "papermill": {
     "duration": 1.121817,
     "end_time": "2022-11-08T13:52:02.568355",
     "exception": false,
     "start_time": "2022-11-08T13:52:01.446538",
     "status": "completed"
    },
    "tags": []
   },
   "outputs": [],
   "source": [
    "#Performing tf-idf \n",
    "\n",
    "tfidf_vectorizer = TfidfVectorizer(max_df=0.8, max_features=10000)\n",
    "xtrain_tfidf = tfidf_vectorizer.fit_transform(X_train.values.astype('U'))\n",
    "xtest_tfidf = tfidf_vectorizer.transform(X_test.values.astype('U'))"
   ]
  },
  {
   "cell_type": "code",
   "execution_count": 29,
   "id": "4a57d070",
   "metadata": {
    "execution": {
     "iopub.execute_input": "2022-11-08T13:52:02.601962Z",
     "iopub.status.busy": "2022-11-08T13:52:02.601486Z",
     "iopub.status.idle": "2022-11-08T13:52:18.213915Z",
     "shell.execute_reply": "2022-11-08T13:52:18.212302Z"
    },
    "papermill": {
     "duration": 15.632694,
     "end_time": "2022-11-08T13:52:18.216757",
     "exception": false,
     "start_time": "2022-11-08T13:52:02.584063",
     "status": "completed"
    },
    "tags": []
   },
   "outputs": [
    {
     "name": "stdout",
     "output_type": "stream",
     "text": [
      "0.775\n"
     ]
    }
   ],
   "source": [
    "svc = SVC()\n",
    "svc.fit(xtrain_tfidf,y_train)\n",
    "svccpred = svc.predict(xtest_tfidf)\n",
    "print(metrics.accuracy_score(y_test,svccpred))"
   ]
  },
  {
   "cell_type": "code",
   "execution_count": 30,
   "id": "fb179b12",
   "metadata": {
    "execution": {
     "iopub.execute_input": "2022-11-08T13:52:18.248467Z",
     "iopub.status.busy": "2022-11-08T13:52:18.248068Z",
     "iopub.status.idle": "2022-11-08T13:52:18.263009Z",
     "shell.execute_reply": "2022-11-08T13:52:18.261858Z"
    },
    "papermill": {
     "duration": 0.034507,
     "end_time": "2022-11-08T13:52:18.266453",
     "exception": false,
     "start_time": "2022-11-08T13:52:18.231946",
     "status": "completed"
    },
    "tags": []
   },
   "outputs": [
    {
     "name": "stdout",
     "output_type": "stream",
     "text": [
      "0.78\n"
     ]
    }
   ],
   "source": [
    "mb = MultinomialNB()\n",
    "mb.fit(xtrain_tfidf,y_train)\n",
    "mbpred = mb.predict(xtest_tfidf)\n",
    "print(metrics.accuracy_score(y_test,mbpred))"
   ]
  },
  {
   "cell_type": "markdown",
   "id": "797c19c0",
   "metadata": {
    "papermill": {
     "duration": 0.015777,
     "end_time": "2022-11-08T13:52:18.298624",
     "exception": false,
     "start_time": "2022-11-08T13:52:18.282847",
     "status": "completed"
    },
    "tags": []
   },
   "source": [
    "## Testing the Model"
   ]
  },
  {
   "cell_type": "code",
   "execution_count": 31,
   "id": "8f26f5f0",
   "metadata": {
    "execution": {
     "iopub.execute_input": "2022-11-08T13:52:18.331423Z",
     "iopub.status.busy": "2022-11-08T13:52:18.331019Z",
     "iopub.status.idle": "2022-11-08T13:52:48.053731Z",
     "shell.execute_reply": "2022-11-08T13:52:48.052718Z"
    },
    "papermill": {
     "duration": 29.741865,
     "end_time": "2022-11-08T13:52:48.056273",
     "exception": false,
     "start_time": "2022-11-08T13:52:18.314408",
     "status": "completed"
    },
    "tags": []
   },
   "outputs": [
    {
     "data": {
      "text/plain": [
       "0       [0]\n",
       "1       [0]\n",
       "2       [0]\n",
       "3       [0]\n",
       "4       [0]\n",
       "       ... \n",
       "2995    [1]\n",
       "2996    [5]\n",
       "2997    [5]\n",
       "2998    [5]\n",
       "2999    [5]\n",
       "Name: summary, Length: 3000, dtype: object"
      ]
     },
     "execution_count": 31,
     "metadata": {},
     "output_type": "execute_result"
    }
   ],
   "source": [
    "def test(text,model):\n",
    "    \n",
    "    text = cleantext(text)\n",
    "    text = removestopwords(text)\n",
    "    text = lematizing(text)\n",
    "    text = stemming(text)\n",
    "    \n",
    "    text_vector = tfidf_vectorizer.transform([text])\n",
    "    predicted = model.predict(text_vector)\n",
    "    return predicted\n",
    "\n",
    "\n",
    "\n",
    "ans = books['summary'].apply(lambda text:test(text,mb))\n",
    "\n",
    "# printing the \n",
    "# print(list(mapper.keys())[list(mapper.values()).index(ans)])\n",
    "\n",
    "ans"
   ]
  },
  {
   "cell_type": "code",
   "execution_count": 32,
   "id": "f6edbfa2",
   "metadata": {
    "execution": {
     "iopub.execute_input": "2022-11-08T13:52:48.088188Z",
     "iopub.status.busy": "2022-11-08T13:52:48.087773Z",
     "iopub.status.idle": "2022-11-08T13:52:48.112113Z",
     "shell.execute_reply": "2022-11-08T13:52:48.111122Z"
    },
    "papermill": {
     "duration": 0.043437,
     "end_time": "2022-11-08T13:52:48.114864",
     "exception": false,
     "start_time": "2022-11-08T13:52:48.071427",
     "status": "completed"
    },
    "tags": []
   },
   "outputs": [],
   "source": [
    "predicted_genres = []\n",
    "for i in range(len(ans)):\n",
    "    \n",
    "    index_val = ans[i][0]\n",
    "    predicted_genres.append(list(mapper.keys())[list(mapper.values()).index(index_val)])\n",
    "    "
   ]
  },
  {
   "cell_type": "code",
   "execution_count": 33,
   "id": "8d315300",
   "metadata": {
    "execution": {
     "iopub.execute_input": "2022-11-08T13:52:48.147416Z",
     "iopub.status.busy": "2022-11-08T13:52:48.146750Z",
     "iopub.status.idle": "2022-11-08T13:52:48.152291Z",
     "shell.execute_reply": "2022-11-08T13:52:48.151495Z"
    },
    "papermill": {
     "duration": 0.024162,
     "end_time": "2022-11-08T13:52:48.154320",
     "exception": false,
     "start_time": "2022-11-08T13:52:48.130158",
     "status": "completed"
    },
    "tags": []
   },
   "outputs": [
    {
     "data": {
      "text/plain": [
       "{'Fantasy': 0,\n",
       " 'Science Fiction': 1,\n",
       " 'Crime Fiction': 2,\n",
       " 'Historical novel': 3,\n",
       " 'Horror': 4,\n",
       " 'Thriller': 5}"
      ]
     },
     "execution_count": 33,
     "metadata": {},
     "output_type": "execute_result"
    }
   ],
   "source": [
    "mapper"
   ]
  },
  {
   "cell_type": "code",
   "execution_count": 34,
   "id": "f9e1aada",
   "metadata": {
    "execution": {
     "iopub.execute_input": "2022-11-08T13:52:48.186868Z",
     "iopub.status.busy": "2022-11-08T13:52:48.186136Z",
     "iopub.status.idle": "2022-11-08T13:52:48.192697Z",
     "shell.execute_reply": "2022-11-08T13:52:48.191865Z"
    },
    "papermill": {
     "duration": 0.025462,
     "end_time": "2022-11-08T13:52:48.194870",
     "exception": false,
     "start_time": "2022-11-08T13:52:48.169408",
     "status": "completed"
    },
    "scrolled": true,
    "tags": []
   },
   "outputs": [
    {
     "data": {
      "text/plain": [
       "{0: 'Fantasy',\n",
       " 1: 'Science Fiction',\n",
       " 2: 'Crime Fiction',\n",
       " 3: 'Historical novel',\n",
       " 4: 'Horror',\n",
       " 5: 'Thriller'}"
      ]
     },
     "execution_count": 34,
     "metadata": {},
     "output_type": "execute_result"
    }
   ],
   "source": [
    "## mapping the training genre as well\n",
    "\n",
    "newmap = dict([(value,key) for key,value in mapper.items()])\n",
    "newmap"
   ]
  },
  {
   "cell_type": "code",
   "execution_count": 35,
   "id": "1500bc47",
   "metadata": {
    "execution": {
     "iopub.execute_input": "2022-11-08T13:52:48.227570Z",
     "iopub.status.busy": "2022-11-08T13:52:48.226967Z",
     "iopub.status.idle": "2022-11-08T13:52:48.232493Z",
     "shell.execute_reply": "2022-11-08T13:52:48.230866Z"
    },
    "papermill": {
     "duration": 0.024655,
     "end_time": "2022-11-08T13:52:48.234961",
     "exception": false,
     "start_time": "2022-11-08T13:52:48.210306",
     "status": "completed"
    },
    "tags": []
   },
   "outputs": [
    {
     "name": "stdout",
     "output_type": "stream",
     "text": [
      "{0: 'Fantasy', 1: 'Science Fiction', 2: 'Crime Fiction', 3: 'Historical novel', 4: 'Horror', 5: 'Thriller'}\n"
     ]
    }
   ],
   "source": [
    "print(newmap)"
   ]
  },
  {
   "cell_type": "code",
   "execution_count": 36,
   "id": "5c90aded",
   "metadata": {
    "execution": {
     "iopub.execute_input": "2022-11-08T13:52:48.267309Z",
     "iopub.status.busy": "2022-11-08T13:52:48.266917Z",
     "iopub.status.idle": "2022-11-08T13:52:48.284787Z",
     "shell.execute_reply": "2022-11-08T13:52:48.283560Z"
    },
    "papermill": {
     "duration": 0.036989,
     "end_time": "2022-11-08T13:52:48.287273",
     "exception": false,
     "start_time": "2022-11-08T13:52:48.250284",
     "status": "completed"
    },
    "tags": []
   },
   "outputs": [
    {
     "data": {
      "text/html": [
       "<div>\n",
       "<style scoped>\n",
       "    .dataframe tbody tr th:only-of-type {\n",
       "        vertical-align: middle;\n",
       "    }\n",
       "\n",
       "    .dataframe tbody tr th {\n",
       "        vertical-align: top;\n",
       "    }\n",
       "\n",
       "    .dataframe thead th {\n",
       "        text-align: right;\n",
       "    }\n",
       "</style>\n",
       "<table border=\"1\" class=\"dataframe\">\n",
       "  <thead>\n",
       "    <tr style=\"text-align: right;\">\n",
       "      <th></th>\n",
       "      <th>book_id</th>\n",
       "      <th>book_name</th>\n",
       "      <th>genre</th>\n",
       "      <th>summary</th>\n",
       "      <th>Actual Genre</th>\n",
       "      <th>Predicted_genre</th>\n",
       "    </tr>\n",
       "  </thead>\n",
       "  <tbody>\n",
       "    <tr>\n",
       "      <th>0</th>\n",
       "      <td>3248537</td>\n",
       "      <td>Drowned Wednesday</td>\n",
       "      <td>0</td>\n",
       "      <td>drown wednesday first truste among morrow day ...</td>\n",
       "      <td>Fantasy</td>\n",
       "      <td>Fantasy</td>\n",
       "    </tr>\n",
       "    <tr>\n",
       "      <th>1</th>\n",
       "      <td>27796919</td>\n",
       "      <td>The Lost Hero</td>\n",
       "      <td>0</td>\n",
       "      <td>book open jason awaken school bu unabl rememb ...</td>\n",
       "      <td>Fantasy</td>\n",
       "      <td>Fantasy</td>\n",
       "    </tr>\n",
       "    <tr>\n",
       "      <th>2</th>\n",
       "      <td>3910776</td>\n",
       "      <td>The Eyes of the Overworld</td>\n",
       "      <td>0</td>\n",
       "      <td>cugel easili persuad merchant fianosth attempt...</td>\n",
       "      <td>Fantasy</td>\n",
       "      <td>Fantasy</td>\n",
       "    </tr>\n",
       "    <tr>\n",
       "      <th>3</th>\n",
       "      <td>5969644</td>\n",
       "      <td>Magic's Promise</td>\n",
       "      <td>0</td>\n",
       "      <td>book open herald mage vanyel return countri va...</td>\n",
       "      <td>Fantasy</td>\n",
       "      <td>Fantasy</td>\n",
       "    </tr>\n",
       "    <tr>\n",
       "      <th>4</th>\n",
       "      <td>3173445</td>\n",
       "      <td>Taran Wanderer</td>\n",
       "      <td>0</td>\n",
       "      <td>taran gurgi return caer dallben follow event t...</td>\n",
       "      <td>Fantasy</td>\n",
       "      <td>Fantasy</td>\n",
       "    </tr>\n",
       "  </tbody>\n",
       "</table>\n",
       "</div>"
      ],
      "text/plain": [
       "    book_id                  book_name  genre  \\\n",
       "0   3248537          Drowned Wednesday      0   \n",
       "1  27796919              The Lost Hero      0   \n",
       "2   3910776  The Eyes of the Overworld      0   \n",
       "3   5969644            Magic's Promise      0   \n",
       "4   3173445             Taran Wanderer      0   \n",
       "\n",
       "                                             summary Actual Genre  \\\n",
       "0  drown wednesday first truste among morrow day ...      Fantasy   \n",
       "1  book open jason awaken school bu unabl rememb ...      Fantasy   \n",
       "2  cugel easili persuad merchant fianosth attempt...      Fantasy   \n",
       "3  book open herald mage vanyel return countri va...      Fantasy   \n",
       "4  taran gurgi return caer dallben follow event t...      Fantasy   \n",
       "\n",
       "  Predicted_genre  \n",
       "0         Fantasy  \n",
       "1         Fantasy  \n",
       "2         Fantasy  \n",
       "3         Fantasy  \n",
       "4         Fantasy  "
      ]
     },
     "execution_count": 36,
     "metadata": {},
     "output_type": "execute_result"
    }
   ],
   "source": [
    "books['Actual Genre'] = books['genre'].map(newmap)\n",
    "books['Predicted_genre'] = np.array(predicted_genres)\n",
    "books.head()"
   ]
  },
  {
   "cell_type": "code",
   "execution_count": 37,
   "id": "264b2e0a",
   "metadata": {
    "execution": {
     "iopub.execute_input": "2022-11-08T13:52:48.320644Z",
     "iopub.status.busy": "2022-11-08T13:52:48.319549Z",
     "iopub.status.idle": "2022-11-08T13:52:48.336571Z",
     "shell.execute_reply": "2022-11-08T13:52:48.335329Z"
    },
    "papermill": {
     "duration": 0.036256,
     "end_time": "2022-11-08T13:52:48.338801",
     "exception": false,
     "start_time": "2022-11-08T13:52:48.302545",
     "status": "completed"
    },
    "scrolled": true,
    "tags": []
   },
   "outputs": [
    {
     "data": {
      "text/html": [
       "<div>\n",
       "<style scoped>\n",
       "    .dataframe tbody tr th:only-of-type {\n",
       "        vertical-align: middle;\n",
       "    }\n",
       "\n",
       "    .dataframe tbody tr th {\n",
       "        vertical-align: top;\n",
       "    }\n",
       "\n",
       "    .dataframe thead th {\n",
       "        text-align: right;\n",
       "    }\n",
       "</style>\n",
       "<table border=\"1\" class=\"dataframe\">\n",
       "  <thead>\n",
       "    <tr style=\"text-align: right;\">\n",
       "      <th></th>\n",
       "      <th>book_name</th>\n",
       "      <th>summary</th>\n",
       "      <th>Actual Genre</th>\n",
       "      <th>Predicted_genre</th>\n",
       "    </tr>\n",
       "  </thead>\n",
       "  <tbody>\n",
       "    <tr>\n",
       "      <th>0</th>\n",
       "      <td>Drowned Wednesday</td>\n",
       "      <td>drown wednesday first truste among morrow day ...</td>\n",
       "      <td>Fantasy</td>\n",
       "      <td>Fantasy</td>\n",
       "    </tr>\n",
       "    <tr>\n",
       "      <th>1</th>\n",
       "      <td>The Lost Hero</td>\n",
       "      <td>book open jason awaken school bu unabl rememb ...</td>\n",
       "      <td>Fantasy</td>\n",
       "      <td>Fantasy</td>\n",
       "    </tr>\n",
       "    <tr>\n",
       "      <th>2</th>\n",
       "      <td>The Eyes of the Overworld</td>\n",
       "      <td>cugel easili persuad merchant fianosth attempt...</td>\n",
       "      <td>Fantasy</td>\n",
       "      <td>Fantasy</td>\n",
       "    </tr>\n",
       "    <tr>\n",
       "      <th>3</th>\n",
       "      <td>Magic's Promise</td>\n",
       "      <td>book open herald mage vanyel return countri va...</td>\n",
       "      <td>Fantasy</td>\n",
       "      <td>Fantasy</td>\n",
       "    </tr>\n",
       "    <tr>\n",
       "      <th>4</th>\n",
       "      <td>Taran Wanderer</td>\n",
       "      <td>taran gurgi return caer dallben follow event t...</td>\n",
       "      <td>Fantasy</td>\n",
       "      <td>Fantasy</td>\n",
       "    </tr>\n",
       "    <tr>\n",
       "      <th>...</th>\n",
       "      <td>...</td>\n",
       "      <td>...</td>\n",
       "      <td>...</td>\n",
       "      <td>...</td>\n",
       "    </tr>\n",
       "    <tr>\n",
       "      <th>2995</th>\n",
       "      <td>White Death</td>\n",
       "      <td>novel numa file kurt austin adventur novel mai...</td>\n",
       "      <td>Thriller</td>\n",
       "      <td>Science Fiction</td>\n",
       "    </tr>\n",
       "    <tr>\n",
       "      <th>2996</th>\n",
       "      <td>Venus with Pistol</td>\n",
       "      <td>gilbert kemp dealer special antiqu gun london ...</td>\n",
       "      <td>Thriller</td>\n",
       "      <td>Thriller</td>\n",
       "    </tr>\n",
       "    <tr>\n",
       "      <th>2997</th>\n",
       "      <td>Blackwater</td>\n",
       "      <td>know deep davey alway live shadow older brothe...</td>\n",
       "      <td>Thriller</td>\n",
       "      <td>Thriller</td>\n",
       "    </tr>\n",
       "    <tr>\n",
       "      <th>2998</th>\n",
       "      <td>The Rainbow and the Rose</td>\n",
       "      <td>stori concern life johnni pasco retir commerci...</td>\n",
       "      <td>Thriller</td>\n",
       "      <td>Thriller</td>\n",
       "    </tr>\n",
       "    <tr>\n",
       "      <th>2999</th>\n",
       "      <td>Chiefs</td>\n",
       "      <td>first chief henri lee novel open grow town del...</td>\n",
       "      <td>Thriller</td>\n",
       "      <td>Thriller</td>\n",
       "    </tr>\n",
       "  </tbody>\n",
       "</table>\n",
       "<p>3000 rows × 4 columns</p>\n",
       "</div>"
      ],
      "text/plain": [
       "                      book_name  \\\n",
       "0             Drowned Wednesday   \n",
       "1                 The Lost Hero   \n",
       "2     The Eyes of the Overworld   \n",
       "3               Magic's Promise   \n",
       "4                Taran Wanderer   \n",
       "...                         ...   \n",
       "2995                White Death   \n",
       "2996          Venus with Pistol   \n",
       "2997                 Blackwater   \n",
       "2998   The Rainbow and the Rose   \n",
       "2999                     Chiefs   \n",
       "\n",
       "                                                summary Actual Genre  \\\n",
       "0     drown wednesday first truste among morrow day ...      Fantasy   \n",
       "1     book open jason awaken school bu unabl rememb ...      Fantasy   \n",
       "2     cugel easili persuad merchant fianosth attempt...      Fantasy   \n",
       "3     book open herald mage vanyel return countri va...      Fantasy   \n",
       "4     taran gurgi return caer dallben follow event t...      Fantasy   \n",
       "...                                                 ...          ...   \n",
       "2995  novel numa file kurt austin adventur novel mai...     Thriller   \n",
       "2996  gilbert kemp dealer special antiqu gun london ...     Thriller   \n",
       "2997  know deep davey alway live shadow older brothe...     Thriller   \n",
       "2998  stori concern life johnni pasco retir commerci...     Thriller   \n",
       "2999  first chief henri lee novel open grow town del...     Thriller   \n",
       "\n",
       "      Predicted_genre  \n",
       "0             Fantasy  \n",
       "1             Fantasy  \n",
       "2             Fantasy  \n",
       "3             Fantasy  \n",
       "4             Fantasy  \n",
       "...               ...  \n",
       "2995  Science Fiction  \n",
       "2996         Thriller  \n",
       "2997         Thriller  \n",
       "2998         Thriller  \n",
       "2999         Thriller  \n",
       "\n",
       "[3000 rows x 4 columns]"
      ]
     },
     "execution_count": 37,
     "metadata": {},
     "output_type": "execute_result"
    }
   ],
   "source": [
    "books = books[['book_name','summary','Actual Genre','Predicted_genre']]\n",
    "books"
   ]
  },
  {
   "cell_type": "code",
   "execution_count": 46,
   "id": "9e99f616",
   "metadata": {
    "execution": {
     "iopub.execute_input": "2022-11-08T13:52:48.373274Z",
     "iopub.status.busy": "2022-11-08T13:52:48.372240Z",
     "iopub.status.idle": "2022-11-08T13:52:48.380631Z",
     "shell.execute_reply": "2022-11-08T13:52:48.379512Z"
    },
    "papermill": {
     "duration": 0.028018,
     "end_time": "2022-11-08T13:52:48.383012",
     "exception": false,
     "start_time": "2022-11-08T13:52:48.354994",
     "status": "completed"
    },
    "tags": []
   },
   "outputs": [
    {
     "data": {
      "text/plain": [
       "{'Fantasy': 500,\n",
       " 'Science Fiction': 500,\n",
       " 'Crime Fiction': 500,\n",
       " 'Historical novel': 500,\n",
       " 'Horror': 500,\n",
       " 'Thriller': 500}"
      ]
     },
     "execution_count": 46,
     "metadata": {},
     "output_type": "execute_result"
    }
   ],
   "source": [
    "dict(Counter(books['Actual Genre'].values))"
   ]
  },
  {
   "cell_type": "code",
   "execution_count": 47,
   "id": "7136c4db",
   "metadata": {
    "execution": {
     "iopub.execute_input": "2022-11-08T13:52:48.416762Z",
     "iopub.status.busy": "2022-11-08T13:52:48.416395Z",
     "iopub.status.idle": "2022-11-08T13:52:48.423745Z",
     "shell.execute_reply": "2022-11-08T13:52:48.422648Z"
    },
    "papermill": {
     "duration": 0.027366,
     "end_time": "2022-11-08T13:52:48.426403",
     "exception": false,
     "start_time": "2022-11-08T13:52:48.399037",
     "status": "completed"
    },
    "tags": []
   },
   "outputs": [
    {
     "data": {
      "text/plain": [
       "{'Fantasy': 462,\n",
       " 'Science Fiction': 536,\n",
       " 'Thriller': 477,\n",
       " 'Horror': 504,\n",
       " 'Historical novel': 501,\n",
       " 'Crime Fiction': 520}"
      ]
     },
     "execution_count": 47,
     "metadata": {},
     "output_type": "execute_result"
    }
   ],
   "source": [
    "dict(Counter(books['Predicted_genre'].values))"
   ]
  },
  {
   "cell_type": "code",
   "execution_count": 48,
   "id": "b73ce79e",
   "metadata": {
    "execution": {
     "iopub.execute_input": "2022-11-08T13:52:48.460529Z",
     "iopub.status.busy": "2022-11-08T13:52:48.460143Z",
     "iopub.status.idle": "2022-11-08T13:52:48.619138Z",
     "shell.execute_reply": "2022-11-08T13:52:48.617834Z"
    },
    "papermill": {
     "duration": 0.179029,
     "end_time": "2022-11-08T13:52:48.621658",
     "exception": false,
     "start_time": "2022-11-08T13:52:48.442629",
     "status": "completed"
    },
    "tags": []
   },
   "outputs": [
    {
     "data": {
      "text/plain": [
       "(array([0, 1, 2, 3, 4, 5]),\n",
       " [Text(0, 0, 'Fantasy'),\n",
       "  Text(1, 0, 'Science Fiction'),\n",
       "  Text(2, 0, 'Thriller'),\n",
       "  Text(3, 0, 'Horror'),\n",
       "  Text(4, 0, 'Historical novel'),\n",
       "  Text(5, 0, 'Crime Fiction')])"
      ]
     },
     "execution_count": 48,
     "metadata": {},
     "output_type": "execute_result"
    },
    {
     "data": {
      "image/png": "[encoded data removed]",
      "text/plain": [
       "<Figure size 640x480 with 1 Axes>"
      ]
     },
     "metadata": {},
     "output_type": "display_data"
    }
   ],
   "source": [
    "sn.countplot(x = books['Predicted_genre'])\n",
    "plt.xticks(rotation = 45)"
   ]
  },
  {
   "cell_type": "code",
   "execution_count": 49,
   "id": "5fc53f04",
   "metadata": {
    "execution": {
     "iopub.execute_input": "2022-11-08T13:52:48.657498Z",
     "iopub.status.busy": "2022-11-08T13:52:48.656776Z",
     "iopub.status.idle": "2022-11-08T13:52:48.813665Z",
     "shell.execute_reply": "2022-11-08T13:52:48.812748Z"
    },
    "papermill": {
     "duration": 0.17757,
     "end_time": "2022-11-08T13:52:48.816211",
     "exception": false,
     "start_time": "2022-11-08T13:52:48.638641",
     "status": "completed"
    },
    "tags": []
   },
   "outputs": [
    {
     "data": {
      "text/plain": [
       "(array([0, 1, 2, 3, 4, 5]),\n",
       " [Text(0, 0, 'Fantasy'),\n",
       "  Text(1, 0, 'Science Fiction'),\n",
       "  Text(2, 0, 'Crime Fiction'),\n",
       "  Text(3, 0, 'Historical novel'),\n",
       "  Text(4, 0, 'Horror'),\n",
       "  Text(5, 0, 'Thriller')])"
      ]
     },
     "execution_count": 49,
     "metadata": {},
     "output_type": "execute_result"
    },
    {
     "data": {
      "image/png": "[encoded data removed]",
      "text/plain": [
       "<Figure size 640x480 with 1 Axes>"
      ]
     },
     "metadata": {},
     "output_type": "display_data"
    }
   ],
   "source": [
    "sn.countplot(x = books['Actual Genre'])\n",
    "plt.xticks(rotation = 45)"
   ]
  },
  {
   "cell_type": "code",
   "execution_count": 50,
   "id": "aa18aa80",
   "metadata": {
    "execution": {
     "iopub.execute_input": "2022-11-08T13:52:48.853132Z",
     "iopub.status.busy": "2022-11-08T13:52:48.852321Z",
     "iopub.status.idle": "2022-11-08T13:52:48.859646Z",
     "shell.execute_reply": "2022-11-08T13:52:48.858768Z"
    },
    "papermill": {
     "duration": 0.028598,
     "end_time": "2022-11-08T13:52:48.862217",
     "exception": false,
     "start_time": "2022-11-08T13:52:48.833619",
     "status": "completed"
    },
    "tags": []
   },
   "outputs": [],
   "source": [
    "# saving the model\n",
    "\n",
    "import pickle\n",
    "file = open('bookgenremodel.pkl','wb')\n",
    "pickle.dump(mb,file)\n",
    "file.close()"
   ]
  },
  {
   "cell_type": "code",
   "execution_count": 51,
   "id": "3992ce44",
   "metadata": {
    "execution": {
     "iopub.execute_input": "2022-11-08T13:52:48.898762Z",
     "iopub.status.busy": "2022-11-08T13:52:48.897966Z",
     "iopub.status.idle": "2022-11-08T13:52:48.906448Z",
     "shell.execute_reply": "2022-11-08T13:52:48.905090Z"
    },
    "papermill": {
     "duration": 0.029681,
     "end_time": "2022-11-08T13:52:48.908988",
     "exception": false,
     "start_time": "2022-11-08T13:52:48.879307",
     "status": "completed"
    },
    "tags": []
   },
   "outputs": [
    {
     "data": {
      "text/plain": [
       "'book open jason awaken school bu unabl rememb anyth past sit next piper mclean leo valdez call name say girlfriend best friend respect three part class field trip grand canyon arriv classmat dylan turn venti storm spirit attack trio trip leader coach gleeson hedg ensu fight jason surpris everyon includ one coin turn sword us battl storm spirit coach hedg reveal satyr fight taken captiv flee spirit battl fli chariot arriv rescu trio one peopl annabeth upset discov miss boyfriend perci jackson expect annabeth seek perci told vision goddess hera look guy one shoe turn jason shoe destroy fight jason piper leo told demigod taken back camp half blood meet greek demigod child like leo reveal son hephaestu piper daughter aphrodit jason son zeu though hera tell champion jason later discov full brother zeu demigod daughter thalia grace hunter artemi shortli arriv three given quest rescu hera captur set soon discov enemi work order gaea overthrow god quest encount thalia hunter look perci thalia jason reunit first sinc jason captur age two way aeolu castl jason leo piper becom separ thalia promis meet wolf hous last place thalia seen jason meet nearli apprehend aeolu gaea order trio manag escap thank melli aeolu former assist end san francisco thank result dream piper aphrodit land san francisco trio rush mt diablo fight giant enceladu kidnap piper father manag kill giant save piper father rush wolf hous free hera although hero hunter save hera king giant porphyrion rise fulli disappear hole earth jason memori start return rememb hero roman counterpart camp half blood somewher near san francisco son jupit zeu roman aspect realiz hera also known juno switch perci jackson roman camp memori life hope two camp would ultim work togeth fight giant defeat goddess gaea'"
      ]
     },
     "execution_count": 51,
     "metadata": {},
     "output_type": "execute_result"
    }
   ],
   "source": [
    "books['summary'].iloc[1]"
   ]
  },
  {
   "cell_type": "code",
   "execution_count": 52,
   "id": "72bdaeed",
   "metadata": {
    "execution": {
     "iopub.execute_input": "2022-11-08T13:52:48.945452Z",
     "iopub.status.busy": "2022-11-08T13:52:48.945051Z",
     "iopub.status.idle": "2022-11-08T13:52:48.954515Z",
     "shell.execute_reply": "2022-11-08T13:52:48.953238Z"
    },
    "papermill": {
     "duration": 0.030466,
     "end_time": "2022-11-08T13:52:48.956853",
     "exception": false,
     "start_time": "2022-11-08T13:52:48.926387",
     "status": "completed"
    },
    "tags": []
   },
   "outputs": [
    {
     "data": {
      "text/html": [
       "<style>#sk-container-id-1 {color: black;background-color: white;}#sk-container-id-1 pre{padding: 0;}#sk-container-id-1 div.sk-toggleable {background-color: white;}#sk-container-id-1 label.sk-toggleable__label {cursor: pointer;display: block;width: 100%;margin-bottom: 0;padding: 0.3em;box-sizing: border-box;text-align: center;}#sk-container-id-1 label.sk-toggleable__label-arrow:before {content: \"▸\";float: left;margin-right: 0.25em;color: #696969;}#sk-container-id-1 label.sk-toggleable__label-arrow:hover:before {color: black;}#sk-container-id-1 div.sk-estimator:hover label.sk-toggleable__label-arrow:before {color: black;}#sk-container-id-1 div.sk-toggleable__content {max-height: 0;max-width: 0;overflow: hidden;text-align: left;background-color: #f0f8ff;}#sk-container-id-1 div.sk-toggleable__content pre {margin: 0.2em;color: black;border-radius: 0.25em;background-color: #f0f8ff;}#sk-container-id-1 input.sk-toggleable__control:checked~div.sk-toggleable__content {max-height: 200px;max-width: 100%;overflow: auto;}#sk-container-id-1 input.sk-toggleable__control:checked~label.sk-toggleable__label-arrow:before {content: \"▾\";}#sk-container-id-1 div.sk-estimator input.sk-toggleable__control:checked~label.sk-toggleable__label {background-color: #d4ebff;}#sk-container-id-1 div.sk-label input.sk-toggleable__control:checked~label.sk-toggleable__label {background-color: #d4ebff;}#sk-container-id-1 input.sk-hidden--visually {border: 0;clip: rect(1px 1px 1px 1px);clip: rect(1px, 1px, 1px, 1px);height: 1px;margin: -1px;overflow: hidden;padding: 0;position: absolute;width: 1px;}#sk-container-id-1 div.sk-estimator {font-family: monospace;background-color: #f0f8ff;border: 1px dotted black;border-radius: 0.25em;box-sizing: border-box;margin-bottom: 0.5em;}#sk-container-id-1 div.sk-estimator:hover {background-color: #d4ebff;}#sk-container-id-1 div.sk-parallel-item::after {content: \"\";width: 100%;border-bottom: 1px solid gray;flex-grow: 1;}#sk-container-id-1 div.sk-label:hover label.sk-toggleable__label {background-color: #d4ebff;}#sk-container-id-1 div.sk-serial::before {content: \"\";position: absolute;border-left: 1px solid gray;box-sizing: border-box;top: 0;bottom: 0;left: 50%;z-index: 0;}#sk-container-id-1 div.sk-serial {display: flex;flex-direction: column;align-items: center;background-color: white;padding-right: 0.2em;padding-left: 0.2em;position: relative;}#sk-container-id-1 div.sk-item {position: relative;z-index: 1;}#sk-container-id-1 div.sk-parallel {display: flex;align-items: stretch;justify-content: center;background-color: white;position: relative;}#sk-container-id-1 div.sk-item::before, #sk-container-id-1 div.sk-parallel-item::before {content: \"\";position: absolute;border-left: 1px solid gray;box-sizing: border-box;top: 0;bottom: 0;left: 50%;z-index: -1;}#sk-container-id-1 div.sk-parallel-item {display: flex;flex-direction: column;z-index: 1;position: relative;background-color: white;}#sk-container-id-1 div.sk-parallel-item:first-child::after {align-self: flex-end;width: 50%;}#sk-container-id-1 div.sk-parallel-item:last-child::after {align-self: flex-start;width: 50%;}#sk-container-id-1 div.sk-parallel-item:only-child::after {width: 0;}#sk-container-id-1 div.sk-dashed-wrapped {border: 1px dashed gray;margin: 0 0.4em 0.5em 0.4em;box-sizing: border-box;padding-bottom: 0.4em;background-color: white;}#sk-container-id-1 div.sk-label label {font-family: monospace;font-weight: bold;display: inline-block;line-height: 1.2em;}#sk-container-id-1 div.sk-label-container {text-align: center;}#sk-container-id-1 div.sk-container {/* jupyter's `normalize.less` sets `[hidden] { display: none; }` but bootstrap.min.css set `[hidden] { display: none !important; }` so we also need the `!important` here to be able to override the default hidden behavior on the sphinx rendered scikit-learn.org. See: https://github.com/scikit-learn/scikit-learn/issues/21755 */display: inline-block !important;position: relative;}#sk-container-id-1 div.sk-text-repr-fallback {display: none;}</style><div id=\"sk-container-id-1\" class=\"sk-top-container\"><div class=\"sk-text-repr-fallback\"><pre>TfidfVectorizer(max_df=0.8, max_features=10000)</pre><b>In a Jupyter environment, please rerun this cell to show the HTML representation or trust the notebook. <br />On GitHub, the HTML representation is unable to render, please try loading this page with nbviewer.org.</b></div><div class=\"sk-container\" hidden><div class=\"sk-item\"><div class=\"sk-estimator sk-toggleable\"><input class=\"sk-toggleable__control sk-hidden--visually\" id=\"sk-estimator-id-1\" type=\"checkbox\" checked><label for=\"sk-estimator-id-1\" class=\"sk-toggleable__label sk-toggleable__label-arrow\">TfidfVectorizer</label><div class=\"sk-toggleable__content\"><pre>TfidfVectorizer(max_df=0.8, max_features=10000)</pre></div></div></div></div></div>"
      ],
      "text/plain": [
       "TfidfVectorizer(max_df=0.8, max_features=10000)"
      ]
     },
     "execution_count": 52,
     "metadata": {},
     "output_type": "execute_result"
    }
   ],
   "source": [
    "tfidf_vectorizer"
   ]
  },
  {
   "cell_type": "code",
   "execution_count": 53,
   "id": "83be3276",
   "metadata": {
    "execution": {
     "iopub.execute_input": "2022-11-08T13:52:48.993376Z",
     "iopub.status.busy": "2022-11-08T13:52:48.992931Z",
     "iopub.status.idle": "2022-11-08T13:52:49.035933Z",
     "shell.execute_reply": "2022-11-08T13:52:49.034712Z"
    },
    "papermill": {
     "duration": 0.064307,
     "end_time": "2022-11-08T13:52:49.038580",
     "exception": false,
     "start_time": "2022-11-08T13:52:48.974273",
     "status": "completed"
    },
    "tags": []
   },
   "outputs": [],
   "source": [
    "file = open('tfdifvector.pkl','wb')\n",
    "pickle.dump(tfidf_vectorizer,file)\n",
    "file.close()"
   ]
  },
  {
   "cell_type": "code",
   "execution_count": 54,
   "id": "bf428645",
   "metadata": {
    "execution": {
     "iopub.execute_input": "2022-11-08T13:52:49.075015Z",
     "iopub.status.busy": "2022-11-08T13:52:49.074566Z",
     "iopub.status.idle": "2022-11-08T13:52:49.232464Z",
     "shell.execute_reply": "2022-11-08T13:52:49.230626Z"
    },
    "papermill": {
     "duration": 0.179994,
     "end_time": "2022-11-08T13:52:49.236013",
     "exception": false,
     "start_time": "2022-11-08T13:52:49.056019",
     "status": "completed"
    },
    "tags": []
   },
   "outputs": [
    {
     "name": "stderr",
     "output_type": "stream",
     "text": [
      "[nltk_data] Downloading package wordnet to ./...\n"
     ]
    },
    {
     "data": {
      "text/plain": [
       "True"
      ]
     },
     "execution_count": 54,
     "metadata": {},
     "output_type": "execute_result"
    }
   ],
   "source": [
    "wordnet_down = nltk.download('wordnet',download_dir='./')\n",
    "wordnet_down"
   ]
  },
  {
   "cell_type": "code",
   "execution_count": 55,
   "id": "3a81e3bd",
   "metadata": {
    "execution": {
     "iopub.execute_input": "2022-11-08T13:52:49.273169Z",
     "iopub.status.busy": "2022-11-08T13:52:49.272749Z",
     "iopub.status.idle": "2022-11-08T13:52:49.339862Z",
     "shell.execute_reply": "2022-11-08T13:52:49.338483Z"
    },
    "papermill": {
     "duration": 0.088174,
     "end_time": "2022-11-08T13:52:49.342193",
     "exception": false,
     "start_time": "2022-11-08T13:52:49.254019",
     "status": "completed"
    },
    "tags": []
   },
   "outputs": [
    {
     "name": "stderr",
     "output_type": "stream",
     "text": [
      "[nltk_data] Downloading package stopwords to ./...\n",
      "[nltk_data]   Unzipping corpora\\stopwords.zip.\n"
     ]
    },
    {
     "data": {
      "text/plain": [
       "True"
      ]
     },
     "execution_count": 55,
     "metadata": {},
     "output_type": "execute_result"
    }
   ],
   "source": [
    "nltk.download('stopwords',download_dir='./')"
   ]
  },
  {
   "cell_type": "code",
   "execution_count": null,
   "id": "c048ead6",
   "metadata": {
    "papermill": {
     "duration": 0.017229,
     "end_time": "2022-11-08T13:52:49.376930",
     "exception": false,
     "start_time": "2022-11-08T13:52:49.359701",
     "status": "completed"
    },
    "tags": []
   },
   "outputs": [],
   "source": []
  }
 ],
 "metadata": {
  "kernelspec": {
   "display_name": "Python 3 (ipykernel)",
   "language": "python",
   "name": "python3"
  },
  "language_info": {
   "codemirror_mode": {
    "name": "ipython",
    "version": 3
   },
   "file_extension": ".py",
   "mimetype": "text/x-python",
   "name": "python",
   "nbconvert_exporter": "python",
   "pygments_lexer": "ipython3",
   "version": "3.11.7"
  },
  "papermill": {
   "default_parameters": {},
   "duration": 105.484381,
   "end_time": "2022-11-08T13:52:50.520075",
   "environment_variables": {},
   "exception": null,
   "input_path": "__notebook__.ipynb",
   "output_path": "__notebook__.ipynb",
   "parameters": {},
   "start_time": "2022-11-08T13:51:05.035694",
   "version": "2.3.4"
  },
  "varInspector": {
   "cols": {
    "lenName": 16,
    "lenType": 16,
    "lenVar": 40
   },
   "kernels_config": {
    "python": {
     "delete_cmd_postfix": "",
     "delete_cmd_prefix": "del ",
     "library": "var_list.py",
     "varRefreshCmd": "print(var_dic_list())"
    },
    "r": {
     "delete_cmd_postfix": ") ",
     "delete_cmd_prefix": "rm(",
     "library": "var_list.r",
     "varRefreshCmd": "cat(var_dic_list()) "
    }
   },
   "types_to_exclude": [
    "module",
    "function",
    "builtin_function_or_method",
    "instance",
    "_Feature"
   ],
   "window_display": false
  }
 },
 "nbformat": 4,
 "nbformat_minor": 5
}
